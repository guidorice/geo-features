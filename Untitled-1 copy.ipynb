{
 "cells": [
  {
   "cell_type": "code",
   "execution_count": 23,
   "metadata": {},
   "outputs": [
    {
     "name": "stdout",
     "output_type": "stream",
     "text": [
      "[-108.68000030517578, 38.009998321533203, 20.0, 3.1400001049041748]\n",
      "[-108.68000030517578, 38.009998321533203, 20.0, 4.1399998664855957]\n",
      "__eq__ [True, True, True, False]\n",
      "__ne_ [False, False, False, True]\n",
      "__eq__ --> Bool False\n",
      "__ne__ --> Bool True\n",
      "__ne__ --> __bool__ True\n"
     ]
    }
   ],
   "source": [
    "var vec1 = SIMD[DType.float32, 4](-108.68, 38.01, 20., 3.14)\n",
    "print(vec1)\n",
    "var vec2 = SIMD[DType.float32, 4](-108.68, 38.01, 20., 4.14)\n",
    "print(vec2)\n",
    "print(\"__eq__\", vec1 == vec2)\n",
    "print(\"__ne_\", vec1 != vec2)\n",
    "print(\"__eq__ --> Bool\", Bool(vec1 == vec2))\n",
    "print(\"__ne__ --> Bool\", Bool(vec1 != vec2) == False)\n",
    "print(\"__ne__ --> __bool__\", (vec1 != vec2).__bool__() == False)\n",
    "\n"
   ]
  },
  {
   "cell_type": "code",
   "execution_count": 2,
   "metadata": {},
   "outputs": [],
   "source": []
  },
  {
   "cell_type": "code",
   "execution_count": null,
   "metadata": {},
   "outputs": [],
   "source": []
  }
 ],
 "metadata": {
  "kernelspec": {
   "display_name": "Mojo",
   "language": "mojo",
   "name": "mojo-jupyter-kernel"
  },
  "language_info": {
   "codemirror_mode": {
    "name": "mojo"
   },
   "file_extension": ".mojo",
   "mimetype": "text/x-mojo",
   "name": "mojo"
  },
  "orig_nbformat": 4
 },
 "nbformat": 4,
 "nbformat_minor": 2
}
