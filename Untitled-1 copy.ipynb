{
 "cells": [
  {
   "cell_type": "code",
   "execution_count": 1,
   "metadata": {},
   "outputs": [
    {
     "name": "stdout",
     "output_type": "stream",
     "text": [
      "[-108.68000030517578, 38.009998321533203, 20.0, 3.1400001049041748]\n",
      "[-108.68000030517578, 38.009998321533203, 20.0, 4.1399998664855957]\n",
      "__eq__ [True, True, True, False]\n",
      "__ne_ [False, False, False, True]\n",
      "__eq__ --> Bool False\n",
      "__ne__ --> Bool True\n",
      "__ne__ --> __bool__ True\n"
     ]
    }
   ],
   "source": [
    "var vec1 = SIMD[DType.float32, 4](-108.68, 38.01, 20., 3.14)\n",
    "print(vec1)\n",
    "var vec2 = SIMD[DType.float32, 4](-108.68, 38.01, 20., 4.14)\n",
    "print(vec2)\n",
    "print(\"__eq__\", vec1 == vec2)\n",
    "print(\"__ne_\", vec1 != vec2)\n",
    "print(\"__eq__ --> Bool\", Bool(vec1 == vec2))\n",
    "print(\"__ne__ --> Bool\", Bool(vec1 != vec2) == False)\n",
    "print(\"__ne__ --> __bool__\", (vec1 != vec2).__bool__() == False)\n",
    "\n"
   ]
  },
  {
   "cell_type": "code",
   "execution_count": 3,
   "metadata": {},
   "outputs": [
    {
     "name": "stderr",
     "output_type": "stream",
     "text": [
      "error: \u001b[0;1;31m\u001b[1mExpression [3]:7:1: \u001b[0m\u001b[1mno viable expansions found\n",
      "\u001b[0mfn __lldb_expr__3(inout __mojo_repl_arg: __mojo_repl_context__):\n",
      "\u001b[0;1;32m^\n",
      "\u001b[0m\u001b[0m\n",
      "\u001b[0;1;30m\u001b[1mExpression [3]:9:28: \u001b[0m\u001b[1m  call expansion failed - no concrete specializations\n",
      "\u001b[0m    __mojo_repl_expr_impl__(__mojo_repl_arg, __get_address_as_lvalue(__mojo_repl_arg.`odd_vec2`.load().address), __get_address_as_lvalue(__mojo_repl_arg.`___lldb_expr_failed`.load().address))\n",
      "\u001b[0;1;32m                           ^\n",
      "\u001b[0m\u001b[0m\n",
      "\u001b[0;1;30m\u001b[1mExpression [3]:13:1: \u001b[0m\u001b[1m    no viable expansions found\n",
      "\u001b[0mdef __mojo_repl_expr_impl__(inout __mojo_repl_arg: __mojo_repl_context__, inout `odd_vec2`: __mlir_type.`!kgen.declref<@\"$builtin\"::@\"$simd\"::@SIMD<_65x13_type: !kgen.declref<@\"$builtin\"::@\"$dtype\"::@DType> = #lit.struct<{value: dtype = f32}>, _65x26_size: !kgen.declref<@\"$builtin\"::@\"$int\"::@Int> = #lit.struct<{value = 4}>>>`, inout `___lldb_expr_failed`: __mlir_type.`!kgen.declref<@\"$builtin\"::@\"$bool\"::@Bool>`) -> None:\n",
      "\u001b[0;1;32m^\n",
      "\u001b[0m\u001b[0m\n",
      "\u001b[0;1;30m\u001b[1mExpression [3]:21:26: \u001b[0m\u001b[1m      call expansion failed - no concrete specializations\n",
      "\u001b[0m  __mojo_repl_expr_body__()\n",
      "\u001b[0;1;32m                         ^\n",
      "\u001b[0m\u001b[0m\n",
      "\u001b[0;1;30m\u001b[1mExpression [3]:15:3: \u001b[0m\u001b[1m        no viable expansions found\n",
      "\u001b[0m  def __mojo_repl_expr_body__() -> None:\n",
      "\u001b[0;1;32m  ^\n",
      "\u001b[0m\u001b[0m\n",
      "\u001b[0;1;30m\u001b[1mExpression [3]:18:42: \u001b[0m\u001b[1m          call expansion failed - no concrete specializations\n",
      "\u001b[0m    var odd_vec2 = SIMD[DType.float32, 3](-108.68, 38.01)\n",
      "\u001b[0;1;32m                                         ^\n",
      "\u001b[0m\u001b[0m\n",
      "expression failed to parse (no further compiler diagnostics)"
     ]
    }
   ],
   "source": [
    "var odd_vec2 = SIMD[DType.float32, 3](-108.68, 38.01)\n"
   ]
  },
  {
   "cell_type": "code",
   "execution_count": 2,
   "metadata": {},
   "outputs": [
    {
     "name": "stdout",
     "output_type": "stream",
     "text": [
      "42.0\n",
      "43.0\n",
      "44.0\n"
     ]
    }
   ],
   "source": [
    "var data = SIMD[DType.float32, 3]()\n",
    "for i in range(0, 3):\n",
    "    data[i] = 42 + i\n",
    "for i in range(0, 3):\n",
    "    print(data[i])"
   ]
  },
  {
   "cell_type": "code",
   "execution_count": 14,
   "metadata": {},
   "outputs": [
    {
     "ename": "",
     "evalue": "",
     "output_type": "error",
     "traceback": [
      "\u001b[1;31mCannot execute code, session has been disposed. Please try restarting the Kernel."
     ]
    },
    {
     "ename": "",
     "evalue": "",
     "output_type": "error",
     "traceback": [
      "\u001b[1;31mThe Kernel crashed while executing code in the the current cell or a previous cell. Please review the code in the cell(s) to identify a possible cause of the failure. Click <a href='https://aka.ms/vscodeJupyterKernelCrash'>here</a> for more info. View Jupyter <a href='command:jupyter.viewOutput'>log</a> for further details."
     ]
    }
   ],
   "source": [
    "def main():\n",
    "    var data = SIMD[DType.float32, 3]()\n",
    "    data[3] = 5\n",
    "    print(data[3])"
   ]
  },
  {
   "cell_type": "code",
   "execution_count": 13,
   "metadata": {},
   "outputs": [],
   "source": [
    "main()"
   ]
  },
  {
   "cell_type": "code",
   "execution_count": null,
   "metadata": {},
   "outputs": [],
   "source": []
  }
 ],
 "metadata": {
  "kernelspec": {
   "display_name": "Mojo",
   "language": "mojo",
   "name": "mojo-jupyter-kernel"
  },
  "language_info": {
   "codemirror_mode": {
    "name": "mojo"
   },
   "file_extension": ".mojo",
   "mimetype": "text/x-mojo",
   "name": "mojo"
  },
  "orig_nbformat": 4
 },
 "nbformat": 4,
 "nbformat_minor": 2
}
