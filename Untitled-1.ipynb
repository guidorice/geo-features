{
 "cells": [
  {
   "cell_type": "code",
   "execution_count": 1,
   "metadata": {},
   "outputs": [],
   "source": [
    "struct MySIMDThingy[dtype: DType, dims: Int]:\n",
    "    var coords: SIMD[dtype, dims]\n",
    "    \n",
    "    fn __init__(inout self, coords: SIMD[dtype, dims]):\n",
    "        self.coords = coords\n",
    "\n",
    "    fn __init__(inout self, *elems: SIMD[dtype, 1]):\n",
    "        let list = VariadicList(elems)\n",
    "        self.coords = SIMD[dtype, dims]()\n",
    "        for i in range(0, len(list)):\n",
    "            self.coords = elems[i]"
   ]
  },
  {
   "cell_type": "code",
   "execution_count": null,
   "metadata": {},
   "outputs": [],
   "source": []
  }
 ],
 "metadata": {
  "kernelspec": {
   "display_name": "Mojo",
   "language": "mojo",
   "name": "mojo-jupyter-kernel"
  },
  "language_info": {
   "codemirror_mode": {
    "name": "mojo"
   },
   "file_extension": ".mojo",
   "mimetype": "text/x-mojo",
   "name": "mojo"
  },
  "orig_nbformat": 4
 },
 "nbformat": 4,
 "nbformat_minor": 2
}
