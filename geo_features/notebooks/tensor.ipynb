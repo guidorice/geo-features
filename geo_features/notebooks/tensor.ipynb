{
 "cells": [
  {
   "cell_type": "code",
   "execution_count": 73,
   "metadata": {},
   "outputs": [
    {
     "name": "stdout",
     "output_type": "stream",
     "text": [
      "0.0099999997764825821 1.0099999904632568 2.0099999904632568\n",
      "0.019999999552965164 1.0199999809265137 2.0199999809265137\n",
      "0.029999999329447746 1.0299999713897705 2.0299999713897705\n",
      "0.039999999105930328 1.0399999618530273 2.0399999618530273\n",
      "0.0099999997764825821 1.0099999904632568 2.0099999904632568\n",
      "0.019999999552965164 1.0199999809265137 2.0199999809265137\n",
      "0.029999999329447746 1.0299999713897705 2.0299999713897705\n",
      "0.039999999105930328 1.0399999618530273 2.0399999618530273\n",
      "col 0: 0.0099999997764825821 0.019999999552965164 0.029999999329447746 0.039999999105930328\n",
      "col 1: 1.0099999904632568 1.0199999809265137 1.0299999713897705 1.0399999618530273\n",
      "col 2: 2.0099999904632568 2.0199999809265137 2.0299999713897705 2.0399999618530273\n",
      "col? [0.039999999105930328, 1.0399999618530273, 2.0399999618530273, 1.2687376663252269e+31]\n",
      "col?  [0.039999999105930328, 1.0399999618530273, 2.0399999618530273, 1.9435561042107528e-19]\n"
     ]
    }
   ],
   "source": [
    "from tensor import Tensor\n",
    "from utils.index import Index\n",
    "from utils.list import VariadicList\n",
    "\n",
    "fn make_tensor[row: Int]() -> Tensor[DType.float32]:\n",
    "    \"\"\"write some values into a 3-column tensor, for repro case\"\"\"\n",
    "    var t = Tensor[DType.float32](row, 3)\n",
    "    for i in range(0, row):\n",
    "        t[Index(i, 0)] = 0 + (i + 1) * 0.01  # 0-ish in col 0\n",
    "        t[Index(i, 1)] = 1 + (i +1) * 0.01   # 1-ish values in col 1\n",
    "        t[Index(i, 2)] = 2 + (i +1)  * 0.01  # 2-ish values in col 2\n",
    "\n",
    "    return t\n",
    "\n",
    "let t = make_tensor[4]()\n",
    "for i in range(0, items):\n",
    "    print(t[Index(i, 0)], t[Index(i, 1)], t[Index(i, 2)])\n",
    "for i in range(0, items):\n",
    "    print(t.simd_load[1](Index(i, 0)), t.simd_load[1](Index(i, 1)), t.simd_load[1](Index(i, 2)))\n",
    "\n",
    "# load column 0 (4 loads)\n",
    "print(\"col 0:\", t.simd_load[1](0), t.simd_load[1](3), t.simd_load[1](6), t.simd_load[1](9))\n",
    "\n",
    "# load column 1 (4 loads)\n",
    "print(\"col 1:\", t.simd_load[1](1), t.simd_load[1](4), t.simd_load[1](7), t.simd_load[1](10))\n",
    "\n",
    "# load column 2 (4 loads)\n",
    "print(\"col 2:\", t.simd_load[1](2), t.simd_load[1](5), t.simd_load[1](8), t.simd_load[1](11))\n",
    "\n",
    "# attempt load column with one simd_load\n",
    "print(\"col?\", t.simd_load[4](0, 3, 6, 9))\n",
    "\n",
    "# attempt load column with one simd_load, other api\n",
    "fn loader[rows: Int](*indices: Int):\n",
    "    let t = make_tensor[rows]()\n",
    "    let args = VariadicList(indices)\n",
    "    print(\"col? \", t.simd_load[rows](args))\n",
    "\n",
    "loader[4](0, 3, 6, 9)\n",
    "\n"
   ]
  },
  {
   "cell_type": "code",
   "execution_count": null,
   "metadata": {},
   "outputs": [],
   "source": []
  },
  {
   "cell_type": "code",
   "execution_count": null,
   "metadata": {},
   "outputs": [],
   "source": []
  }
 ],
 "metadata": {
  "kernelspec": {
   "display_name": "Mojo",
   "language": "mojo",
   "name": "mojo-jupyter-kernel"
  },
  "language_info": {
   "codemirror_mode": {
    "name": "mojo"
   },
   "file_extension": ".mojo",
   "mimetype": "text/x-mojo",
   "name": "mojo"
  },
  "orig_nbformat": 4
 },
 "nbformat": 4,
 "nbformat_minor": 2
}
