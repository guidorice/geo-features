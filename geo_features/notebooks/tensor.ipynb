{
 "cells": [
  {
   "cell_type": "code",
   "execution_count": 1,
   "metadata": {},
   "outputs": [],
   "source": [
    "from tensor import Tensor\n",
    "from utils.index import Index\n"
   ]
  },
  {
   "cell_type": "code",
   "execution_count": 9,
   "metadata": {},
   "outputs": [
    {
     "name": "stdout",
     "output_type": "stream",
     "text": [
      "30\n"
     ]
    }
   ],
   "source": [
    "let t3 = Tensor[DType.float32](10, 3)\n",
    "print(t3.num_elements())\n",
    "for i in range(0, t3.num_elements()):\n",
    "    t3[i] = 0\n",
    "\n",
    "let items = 10\n",
    "for i in range(0, items):\n",
    "    t3[Index(i, 0)] = i + 0.1\n",
    "    t3[Index(i, 1)] = i + 0.2\n",
    "    t3[Index(i, 2)] = i + 0.3\n"
   ]
  },
  {
   "cell_type": "code",
   "execution_count": 10,
   "metadata": {},
   "outputs": [
    {
     "name": "stdout",
     "output_type": "stream",
     "text": [
      "0.10000000149011612 0.20000000298023224 0.30000001192092896\n",
      "1.1000000238418579 1.2000000476837158 1.2999999523162842\n",
      "2.0999999046325684 2.2000000476837158 2.2999999523162842\n",
      "3.0999999046325684 3.2000000476837158 3.2999999523162842\n",
      "4.0999999046325684 4.1999998092651367 4.3000001907348633\n",
      "5.0999999046325684 5.1999998092651367 5.3000001907348633\n",
      "6.0999999046325684 6.1999998092651367 6.3000001907348633\n",
      "7.0999999046325684 7.1999998092651367 7.3000001907348633\n",
      "8.1000003814697266 8.1999998092651367 8.3000001907348633\n",
      "9.1000003814697266 9.1999998092651367 9.3000001907348633\n"
     ]
    }
   ],
   "source": [
    "for i in range(0, items):\n",
    "    print(t3[Index(i, 0)], t3[Index(i, 1)], t3[Index(i, 2)])"
   ]
  },
  {
   "cell_type": "code",
   "execution_count": 20,
   "metadata": {},
   "outputs": [
    {
     "name": "stderr",
     "output_type": "stream",
     "text": [
      "error: Execution was interrupted, reason: signal SIGSEGV: address not mapped to object (fault address: 0x56044496a258).\n",
      "The process has been left at the point where it was interrupted, use \"thread return -x\" to return to the state before expression evaluation.\n"
     ]
    }
   ],
   "source": [
    "print(t3.simd_load[3](Index(0, 3, 6)))\n"
   ]
  },
  {
   "cell_type": "code",
   "execution_count": null,
   "metadata": {},
   "outputs": [],
   "source": []
  }
 ],
 "metadata": {
  "kernelspec": {
   "display_name": "Mojo",
   "language": "mojo",
   "name": "mojo-jupyter-kernel"
  },
  "language_info": {
   "codemirror_mode": {
    "name": "mojo"
   },
   "file_extension": ".mojo",
   "mimetype": "text/x-mojo",
   "name": "mojo"
  },
  "orig_nbformat": 4
 },
 "nbformat": 4,
 "nbformat_minor": 2
}
