{
 "cells": [
  {
   "cell_type": "markdown",
   "metadata": {},
   "source": [
    "Example notebook showing Points struct and methods."
   ]
  },
  {
   "cell_type": "code",
   "execution_count": 1,
   "metadata": {},
   "outputs": [
    {
     "name": "stderr",
     "output_type": "stream",
     "text": [
      "error: \u001b[0;1;31m\u001b[1mExpression [1]:5:6: \u001b[0m\u001b[1munable to locate module 'geo_features'\n",
      "\u001b[0mfrom geo_features.geom.point import Point, Point2\n",
      "\u001b[0;1;32m     ^\n",
      "\u001b[0m\u001b[0m\n",
      "expression failed to parse (no further compiler diagnostics)"
     ]
    }
   ],
   "source": [
    "from geo_features.geom.point import Point, Point2"
   ]
  },
  {
   "cell_type": "code",
   "execution_count": null,
   "metadata": {},
   "outputs": [],
   "source": [
    "from geo_features.geom.point import Point, Point2"
   ]
  },
  {
   "cell_type": "code",
   "execution_count": 13,
   "metadata": {},
   "outputs": [],
   "source": [
    "let lon = -108.680\n",
    "let lat = 38.974\n",
    "let height = 8.0\n",
    "let measure = 42.0"
   ]
  },
  {
   "cell_type": "code",
   "execution_count": 16,
   "metadata": {},
   "outputs": [
    {
     "name": "stderr",
     "output_type": "stream",
     "text": [
      "error: \u001b[0;1;31m\u001b[1mExpression [16]:10:1: \u001b[0m\u001b[1mno viable expansions found\n",
      "\u001b[0mfn __lldb_expr__16(inout __mojo_repl_arg: __mojo_repl_context__):\n",
      "\u001b[0;1;32m^\n",
      "\u001b[0m\u001b[0m\n",
      "\u001b[0;1;30m\u001b[1mExpression [16]:12:28: \u001b[0m\u001b[1m  call expansion failed - no concrete specializations\n",
      "\u001b[0m    __mojo_repl_expr_impl__(__mojo_repl_arg, __get_address_as_lvalue(__mojo_repl_arg.`___lldb_expr_failed`.load().address), __get_address_as_lvalue(__mojo_repl_arg.`measure`.load().address), __get_address_as_lvalue(__mojo_repl_arg.`lon`.load().address), __get_address_as_lvalue(__mojo_repl_arg.`lat`.load().address), __get_address_as_lvalue(__mojo_repl_arg.`height`.load().address))\n",
      "\u001b[0;1;32m                           ^\n",
      "\u001b[0m\u001b[0m\n",
      "\u001b[0;1;30m\u001b[1mExpression [16]:16:1: \u001b[0m\u001b[1m    no viable expansions found\n",
      "\u001b[0mdef __mojo_repl_expr_impl__(inout __mojo_repl_arg: __mojo_repl_context__, inout `___lldb_expr_failed`: __mlir_type.`!kgen.declref<@\"$builtin\"::@\"$bool\"::@Bool>`, inout `measure`: __mlir_type.`!kgen.declref<@\"$builtin\"::@\"$float_literal\"::@FloatLiteral>`, inout `lon`: __mlir_type.`!kgen.declref<@\"$builtin\"::@\"$float_literal\"::@FloatLiteral>`, inout `lat`: __mlir_type.`!kgen.declref<@\"$builtin\"::@\"$float_literal\"::@FloatLiteral>`, inout `height`: __mlir_type.`!kgen.declref<@\"$builtin\"::@\"$float_literal\"::@FloatLiteral>`) -> None:\n",
      "\u001b[0;1;32m^\n",
      "\u001b[0m\u001b[0m\n",
      "\u001b[0;1;30m\u001b[1mExpression [16]:24:26: \u001b[0m\u001b[1m      call expansion failed - no concrete specializations\n",
      "\u001b[0m  __mojo_repl_expr_body__()\n",
      "\u001b[0;1;32m                         ^\n",
      "\u001b[0m\u001b[0m\n",
      "\u001b[0;1;30m\u001b[1mExpression [16]:18:3: \u001b[0m\u001b[1m        no viable expansions found\n",
      "\u001b[0m  def __mojo_repl_expr_body__() -> None:\n",
      "\u001b[0;1;32m  ^\n",
      "\u001b[0m\u001b[0m\n",
      "\u001b[0;1;30m\u001b[1mExpression [16]:21:5: \u001b[0m\u001b[1m          could not simplify operator get_alignof(!lit.unresolved, #kgen.target<triple = \"x86_64-unknown-linux-gnu\", cpu = \"broadwell\", features = \"+64bit,+adx,+aes,+avx,+avx2,+bmi,+bmi2,+cmov,+crc32,+cx16,+cx8,+f16c,+fma,+fsgsbase,+fxsr,+invpcid,+lzcnt,+mmx,+movbe,+pclmul,+popcnt,+prfchw,+rdrnd,+rdseed,+rtm,+sahf,+sse,+sse2,+sse3,+sse4.1,+sse4.2,+ssse3,+xsave,+xsaveopt\", data_layout = \"e-m:e-p270:32:32-p271:32:32-p272:64:64-i64:64-f80:128-n8:16:32:64-S128\", simd_bit_width = 256>)\n",
      "\u001b[0m    var x = Point2(SIMD[DType.float32, 2](lon, lat))\n",
      "\u001b[0;1;32m    ^\n",
      "\u001b[0m\u001b[0m\n",
      "expression failed to parse (no further compiler diagnostics)"
     ]
    }
   ],
   "source": [
    "var x = Point2(SIMD[DType.float32, 2](lon, lat))"
   ]
  },
  {
   "cell_type": "code",
   "execution_count": null,
   "metadata": {},
   "outputs": [],
   "source": []
  }
 ],
 "metadata": {
  "kernelspec": {
   "display_name": "Mojo",
   "language": "mojo",
   "name": "mojo-jupyter-kernel"
  },
  "language_info": {
   "codemirror_mode": {
    "name": "mojo"
   },
   "file_extension": ".mojo",
   "mimetype": "text/x-mojo",
   "name": "mojo"
  },
  "orig_nbformat": 4
 },
 "nbformat": 4,
 "nbformat_minor": 2
}
