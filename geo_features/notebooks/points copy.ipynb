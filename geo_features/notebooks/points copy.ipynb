{
 "cells": [
  {
   "cell_type": "code",
   "execution_count": 2,
   "metadata": {},
   "outputs": [
    {
     "name": "stderr",
     "output_type": "stream",
     "text": [
      "error: \u001b[0;1;31m\u001b[1mExpression [2]:21:42: \u001b[0m\u001b[1mcannot construct 'SIMD[si32, 1]' from 'PythonObject' value in 'let' initializer\n",
      "\u001b[0m    let simd_value = SIMD[DType.int32, 1](integer_value)\n",
      "\u001b[0;1;32m                     ~~~~~~~~~~~~~~~~~~~~^~~~~~~~~~~~~~~\n",
      "\u001b[0m\u001b[0m\n",
      "expression failed to parse (no further compiler diagnostics)"
     ]
    }
   ],
   "source": [
    "# Initialize a PythonObject with an integer value\n",
    "let obj = PythonObject(10)\n",
    "\n",
    "# Convert the PythonObject to an integer\n",
    "let integer_value = obj.to_int()\n",
    "\n",
    "# Initialize a SIMD[si32, 1] (sic) with the integer value\n",
    "# note: here try DType.int32 instead of \"si32\"\n",
    "let simd_value = SIMD[DType.int32, 1](integer_value)"
   ]
  },
  {
   "cell_type": "code",
   "execution_count": null,
   "metadata": {},
   "outputs": [],
   "source": []
  }
 ],
 "metadata": {
  "kernelspec": {
   "display_name": "Mojo",
   "language": "mojo",
   "name": "mojo-jupyter-kernel"
  },
  "language_info": {
   "codemirror_mode": {
    "name": "mojo"
   },
   "file_extension": ".mojo",
   "mimetype": "text/x-mojo",
   "name": "mojo"
  },
  "orig_nbformat": 4
 },
 "nbformat": 4,
 "nbformat_minor": 2
}
