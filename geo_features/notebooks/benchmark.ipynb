{
 "cells": [
  {
   "cell_type": "code",
   "execution_count": null,
   "metadata": {},
   "outputs": [],
   "source": [
    "var points_vec_big = DynamicVector[Point2](300000)\n",
    "for n in range(0, 300000):\n",
    "    points_vec_big.push_back(Point2(n, n+1))\n",
    "let lstr20 = LineString2(points_vec_big)\n",
    "let lstr21 = LineString2(points_vec_big)\n",
    "assert_true(lstr20 == lstr21, \"lstr9 == lstr10\")\n",
    "\n",
    "@parameter\n",
    "fn bench():\n",
    "    _ = lstr20 == lstr21 \n",
    "\n",
    "print(\"vectorized equality check:\")\n",
    "let ns1 = Benchmark().run[bench]()\n",
    "\n",
    "@parameter\n",
    "fn bench2():\n",
    "    _ = lstr20._sloweq(lstr21)\n",
    "print(\"procedural equality check:\")\n",
    "let ns2 = Benchmark().run[bench2]()\n",
    "\n",
    "print(ns1, \" vs \", ns2, ns2.__truediv__(ns1), \"X speedup\")\n"
   ]
  }
 ],
 "metadata": {
  "kernelspec": {
   "display_name": "Mojo",
   "language": "mojo",
   "name": "mojo-jupyter-kernel"
  },
  "language_info": {
   "name": "mojo"
  },
  "orig_nbformat": 4
 },
 "nbformat": 4,
 "nbformat_minor": 2
}
