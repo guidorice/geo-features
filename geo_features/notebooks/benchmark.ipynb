{
 "cells": [
  {
   "cell_type": "code",
   "execution_count": 2,
   "metadata": {},
   "outputs": [
    {
     "name": "stderr",
     "output_type": "stream",
     "text": [
      "error: \u001b[0;1;31m\u001b[1mExpression [2]:6:9: \u001b[0m\u001b[1muse of unknown declaration 'lstr20', 'fn' declarations require explicit variable declarations\n",
      "\u001b[0m    _ = lstr20 == lstr21 \n",
      "\u001b[0;1;32m        ^~~~~~\n",
      "\u001b[0m\u001b[0m\n",
      "error: \u001b[0;1;31m\u001b[1mExpression [2]:6:19: \u001b[0m\u001b[1muse of unknown declaration 'lstr21', 'fn' declarations require explicit variable declarations\n",
      "\u001b[0m    _ = lstr20 == lstr21 \n",
      "\u001b[0;1;32m                  ^~~~~~\n",
      "\u001b[0m\u001b[0m\n",
      "error: \u001b[0;1;31m\u001b[1mExpression [2]:9:9: \u001b[0m\u001b[1muse of unknown declaration 'lstr20', 'fn' declarations require explicit variable declarations\n",
      "\u001b[0m    _ = lstr20._sloweq(lstr21)\n",
      "\u001b[0;1;32m        ^~~~~~\n",
      "\u001b[0m\u001b[0m\n",
      "error: \u001b[0;1;31m\u001b[1mExpression [2]:22:40: \u001b[0m\u001b[1muse of unknown declaration 'Point2'\n",
      "\u001b[0m    var points_vec_big = DynamicVector[Point2](300000)\n",
      "\u001b[0;1;32m                                       ^~~~~~\n",
      "\u001b[0m\u001b[0m\n",
      "error: \u001b[0;1;31m\u001b[1mExpression [2]:25:18: \u001b[0m\u001b[1muse of unknown declaration 'LineString2'\n",
      "\u001b[0m    let lstr20 = LineString2(points_vec_big)\n",
      "\u001b[0;1;32m                 ^~~~~~~~~~~\n",
      "\u001b[0m\u001b[0m\n",
      "error: \u001b[0;1;31m\u001b[1mExpression [2]:26:18: \u001b[0m\u001b[1muse of unknown declaration 'LineString2'\n",
      "\u001b[0m    let lstr21 = LineString2(points_vec_big)\n",
      "\u001b[0;1;32m                 ^~~~~~~~~~~\n",
      "\u001b[0m\u001b[0m\n",
      "error: \u001b[0;1;31m\u001b[1mExpression [2]:27:5: \u001b[0m\u001b[1muse of unknown declaration 'assert_true'\n",
      "\u001b[0m    assert_true(lstr20 == lstr21, \"lstr9 == lstr10\")\n",
      "\u001b[0;1;32m    ^~~~~~~~~~~\n",
      "\u001b[0m\u001b[0m\n",
      "error: \u001b[0;1;31m\u001b[1mExpression [2]:31:15: \u001b[0m\u001b[1muse of unknown declaration 'Benchmark'\n",
      "\u001b[0m    let ns1 = Benchmark().run[bench]()\n",
      "\u001b[0;1;32m              ^~~~~~~~~\n",
      "\u001b[0m\u001b[0m\n",
      "error: \u001b[0;1;31m\u001b[1mExpression [2]:35:15: \u001b[0m\u001b[1muse of unknown declaration 'Benchmark'\n",
      "\u001b[0m    let ns2 = Benchmark().run[bench2]()\n",
      "\u001b[0;1;32m              ^~~~~~~~~\n",
      "\u001b[0m\u001b[0m\n",
      "expression failed to parse (no further compiler diagnostics)"
     ]
    }
   ],
   "source": [
    "var points_vec_big = DynamicVector[Point2](300000)\n",
    "for n in range(0, 300000):\n",
    "    points_vec_big.push_back(Point2(n, n+1))\n",
    "let lstr20 = LineString2(points_vec_big)\n",
    "let lstr21 = LineString2(points_vec_big)\n",
    "assert_true(lstr20 == lstr21, \"lstr9 == lstr10\")\n",
    "\n",
    "@parameter\n",
    "fn bench():\n",
    "    _ = lstr20 == lstr21 \n",
    "\n",
    "print(\"vectorized equality check:\")\n",
    "let ns1 = Benchmark().run[bench]()\n",
    "\n",
    "@parameter\n",
    "fn bench2():\n",
    "    _ = lstr20._sloweq(lstr21)\n",
    "print(\"procedural equality check:\")\n",
    "let ns2 = Benchmark().run[bench2]()\n",
    "\n",
    "print(ns1, \" vs \", ns2, ns2.__truediv__(ns1), \"X speedup\")\n"
   ]
  },
  {
   "cell_type": "code",
   "execution_count": null,
   "metadata": {},
   "outputs": [],
   "source": []
  },
  {
   "cell_type": "code",
   "execution_count": null,
   "metadata": {},
   "outputs": [],
   "source": []
  },
  {
   "cell_type": "code",
   "execution_count": 1,
   "metadata": {},
   "outputs": [
    {
     "name": "stderr",
     "output_type": "stream",
     "text": [
      "error: \u001b[0;1;31m\u001b[1mExpression [1]:6:9: \u001b[0m\u001b[1muse of unknown declaration 'lstr20', 'fn' declarations require explicit variable declarations\n",
      "\u001b[0m    _ = lstr20 == lstr21 \n",
      "\u001b[0;1;32m        ^~~~~~\n",
      "\u001b[0m\u001b[0m\n",
      "error: \u001b[0;1;31m\u001b[1mExpression [1]:6:19: \u001b[0m\u001b[1muse of unknown declaration 'lstr21', 'fn' declarations require explicit variable declarations\n",
      "\u001b[0m    _ = lstr20 == lstr21 \n",
      "\u001b[0;1;32m                  ^~~~~~\n",
      "\u001b[0m\u001b[0m\n",
      "error: \u001b[0;1;31m\u001b[1mExpression [1]:9:9: \u001b[0m\u001b[1muse of unknown declaration 'lstr20', 'fn' declarations require explicit variable declarations\n",
      "\u001b[0m    _ = lstr20._sloweq(lstr21)\n",
      "\u001b[0;1;32m        ^~~~~~\n",
      "\u001b[0m\u001b[0m\n",
      "error: \u001b[0;1;31m\u001b[1mExpression [1]:22:40: \u001b[0m\u001b[1muse of unknown declaration 'Point2'\n",
      "\u001b[0m    var points_vec_big = DynamicVector[Point2](300000)\n",
      "\u001b[0;1;32m                                       ^~~~~~\n",
      "\u001b[0m\u001b[0m\n",
      "error: \u001b[0;1;31m\u001b[1mExpression [1]:25:18: \u001b[0m\u001b[1muse of unknown declaration 'LineString2'\n",
      "\u001b[0m    let lstr20 = LineString2(points_vec_big)\n",
      "\u001b[0;1;32m                 ^~~~~~~~~~~\n",
      "\u001b[0m\u001b[0m\n",
      "error: \u001b[0;1;31m\u001b[1mExpression [1]:26:18: \u001b[0m\u001b[1muse of unknown declaration 'LineString2'\n",
      "\u001b[0m    let lstr21 = LineString2(points_vec_big)\n",
      "\u001b[0;1;32m                 ^~~~~~~~~~~\n",
      "\u001b[0m\u001b[0m\n",
      "error: \u001b[0;1;31m\u001b[1mExpression [1]:27:5: \u001b[0m\u001b[1muse of unknown declaration 'assert_true'\n",
      "\u001b[0m    assert_true(lstr20 == lstr21, \"lstr9 == lstr10\")\n",
      "\u001b[0;1;32m    ^~~~~~~~~~~\n",
      "\u001b[0m\u001b[0m\n",
      "error: \u001b[0;1;31m\u001b[1mExpression [1]:31:15: \u001b[0m\u001b[1muse of unknown declaration 'Benchmark'\n",
      "\u001b[0m    let ns1 = Benchmark().run[bench]()\n",
      "\u001b[0;1;32m              ^~~~~~~~~\n",
      "\u001b[0m\u001b[0m\n",
      "error: \u001b[0;1;31m\u001b[1mExpression [1]:35:15: \u001b[0m\u001b[1muse of unknown declaration 'Benchmark'\n",
      "\u001b[0m    let ns2 = Benchmark().run[bench2]()\n",
      "\u001b[0;1;32m              ^~~~~~~~~\n",
      "\u001b[0m\u001b[0m\n",
      "expression failed to parse (no further compiler diagnostics)"
     ]
    }
   ],
   "source": [
    "var points_vec_big = DynamicVector[Point2](300000)\n",
    "for n in range(0, 300000):\n",
    "    points_vec_big.push_back(Point2(n, n+1))\n",
    "let lstr20 = LineString2(points_vec_big)\n",
    "let lstr21 = LineString2(points_vec_big)\n",
    "assert_true(lstr20 == lstr21, \"lstr9 == lstr10\")\n",
    "\n",
    "@parameter\n",
    "fn bench():\n",
    "    _ = lstr20 == lstr21 \n",
    "\n",
    "print(\"vectorized equality check:\")\n",
    "let ns1 = Benchmark().run[bench]()\n",
    "\n",
    "@parameter\n",
    "fn bench2():\n",
    "    _ = lstr20._sloweq(lstr21)\n",
    "print(\"procedural equality check:\")\n",
    "let ns2 = Benchmark().run[bench2]()\n",
    "\n",
    "print(ns1, \" vs \", ns2, ns2.__truediv__(ns1), \"X speedup\")\n"
   ]
  },
  {
   "cell_type": "code",
   "execution_count": null,
   "metadata": {},
   "outputs": [],
   "source": []
  }
 ],
 "metadata": {
  "kernelspec": {
   "display_name": "Mojo",
   "language": "mojo",
   "name": "mojo-jupyter-kernel"
  },
  "language_info": {
   "codemirror_mode": {
    "name": "mojo"
   },
   "file_extension": ".mojo",
   "mimetype": "text/x-mojo",
   "name": "mojo"
  },
  "orig_nbformat": 4
 },
 "nbformat": 4,
 "nbformat_minor": 2
}
