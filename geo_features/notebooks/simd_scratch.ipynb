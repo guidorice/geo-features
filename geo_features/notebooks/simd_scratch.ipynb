{
 "cells": [
  {
   "cell_type": "code",
   "execution_count": 70,
   "metadata": {},
   "outputs": [],
   "source": [
    "from sys.info import simdwidthof, simdbitwidth"
   ]
  },
  {
   "cell_type": "code",
   "execution_count": 71,
   "metadata": {},
   "outputs": [
    {
     "name": "stdout",
     "output_type": "stream",
     "text": [
      "host vector size 256\n",
      "simdwidth[AnyType] of various:\n",
      "f32 8\n",
      "f64 4\n",
      "int64 4\n",
      "si8 32\n",
      "bool 32\n"
     ]
    }
   ],
   "source": [
    "print(\"host vector size\", simdbitwidth())\n",
    "\n",
    "print(\"simdwidth[AnyType] of various:\")\n",
    "\n",
    "print(\"f32\", simdwidthof[DType.float32]())\n",
    "print(\"f64\", simdwidthof[DType.float64]())\n",
    "print(\"int64\", simdwidthof[DType.int64]())\n",
    "print(\"si8\", simdwidthof[DType.int8]())\n",
    "print(\"bool\", simdwidthof[DType.bool]())"
   ]
  },
  {
   "cell_type": "code",
   "execution_count": 72,
   "metadata": {},
   "outputs": [],
   "source": [
    "@register_passable(\"trivial\")\n",
    "struct Example[dtype: DType, dims: Int]:\n",
    "    var data: SIMD[dtype, dims]"
   ]
  },
  {
   "cell_type": "code",
   "execution_count": 73,
   "metadata": {},
   "outputs": [
    {
     "name": "stdout",
     "output_type": "stream",
     "text": [
      "2\n"
     ]
    }
   ],
   "source": [
    "alias ExampleAlias = Example[DType.float32, 4]\n",
    "let o = ExampleAlias{ data: SIMD[DType.float32, 4](42, 43, 44, 45) }\n",
    "print(simdwidthof[ExampleAlias]())\n"
   ]
  },
  {
   "cell_type": "code",
   "execution_count": 74,
   "metadata": {},
   "outputs": [],
   "source": [
    "alias ExampleAliasContd = Example[DType.float16, 16]"
   ]
  },
  {
   "cell_type": "code",
   "execution_count": 75,
   "metadata": {},
   "outputs": [
    {
     "name": "stdout",
     "output_type": "stream",
     "text": [
      "1\n"
     ]
    }
   ],
   "source": [
    "print(simdwidthof[ExampleAliasContd]())"
   ]
  },
  {
   "cell_type": "code",
   "execution_count": null,
   "metadata": {},
   "outputs": [],
   "source": []
  }
 ],
 "metadata": {
  "kernelspec": {
   "display_name": "Mojo",
   "language": "mojo",
   "name": "mojo-jupyter-kernel"
  },
  "language_info": {
   "codemirror_mode": {
    "name": "mojo"
   },
   "file_extension": ".mojo",
   "mimetype": "text/x-mojo",
   "name": "mojo"
  },
  "orig_nbformat": 4
 },
 "nbformat": 4,
 "nbformat_minor": 2
}
