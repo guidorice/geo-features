{
 "cells": [
  {
   "cell_type": "code",
   "execution_count": 70,
   "metadata": {},
   "outputs": [],
   "source": [
    "from sys.info import simdwidthof, simdbitwidth"
   ]
  },
  {
   "cell_type": "code",
   "execution_count": 71,
   "metadata": {},
   "outputs": [
    {
     "name": "stdout",
     "output_type": "stream",
     "text": [
      "host vector size 256\n",
      "simdwidth[AnyType] of various:\n",
      "f32 8\n",
      "f64 4\n",
      "int64 4\n",
      "si8 32\n",
      "bool 32\n"
     ]
    }
   ],
   "source": [
    "print(\"host vector size\", simdbitwidth())\n",
    "\n",
    "print(\"simdwidth[AnyType] of various:\")\n",
    "\n",
    "print(\"f32\", simdwidthof[DType.float32]())\n",
    "print(\"f64\", simdwidthof[DType.float64]())\n",
    "print(\"int64\", simdwidthof[DType.int64]())\n",
    "print(\"si8\", simdwidthof[DType.int8]())\n",
    "print(\"bool\", simdwidthof[DType.bool]())"
   ]
  },
  {
   "cell_type": "code",
   "execution_count": 72,
   "metadata": {},
   "outputs": [],
   "source": [
    "@register_passable(\"trivial\")\n",
    "struct Example[dtype: DType, dims: Int]:\n",
    "    var data: SIMD[dtype, dims]"
   ]
  },
  {
   "cell_type": "code",
   "execution_count": 73,
   "metadata": {},
   "outputs": [
    {
     "name": "stdout",
     "output_type": "stream",
     "text": [
      "2\n"
     ]
    }
   ],
   "source": [
    "alias ExampleAlias = Example[DType.float32, 4]\n",
    "let o = ExampleAlias{ data: SIMD[DType.float32, 4](42, 43, 44, 45) }\n",
    "print(simdwidthof[ExampleAlias]())\n"
   ]
  },
  {
   "cell_type": "code",
   "execution_count": 74,
   "metadata": {},
   "outputs": [],
   "source": [
    "alias ExampleAliasContd = Example[DType.float16, 16]"
   ]
  },
  {
   "cell_type": "code",
   "execution_count": 75,
   "metadata": {},
   "outputs": [
    {
     "name": "stdout",
     "output_type": "stream",
     "text": [
      "1\n"
     ]
    }
   ],
   "source": [
    "print(simdwidthof[ExampleAliasContd]())"
   ]
  },
  {
   "cell_type": "code",
   "execution_count": 1,
   "metadata": {},
   "outputs": [],
   "source": [
    "    # fn __eq__(self, other: Self) -> Bool:\n",
    "    #     \"\"\"\n",
    "    #     Vectorized equality check (approx 27X faster than procedural version in _sloweq)\n",
    "    #     \"\"\"\n",
    "    #     let len = self.__len__()\n",
    "    #     alias nelts = simdwidthof[Point[dtype, point_dims]]()\n",
    "    #     let n = len * point_dims\n",
    "\n",
    "    #     if len != other.__len__():\n",
    "    #         return False\n",
    "\n",
    "    #     for i in range(0, n, nelts):\n",
    "    #         var self_vec = self.coords.simd_load[nelts](i)\n",
    "    #         var other_vec = other.coords.simd_load[nelts](i)\n",
    "    #         # the last batch of nelts may not fill the vector, so write zeros so equality check can still be valid\n",
    "    #         if n - i < nelts:\n",
    "    #             for j in range(n - i, n):\n",
    "    #                 self_vec[j] = 0\n",
    "    #                 other_vec[j] = 0\n",
    "    #         let vectors_eq = self_vec == other_vec\n",
    "    #         if not Bool(vectors_eq):\n",
    "    #             return False\n",
    "\n",
    "    #     return True\n"
   ]
  },
  {
   "cell_type": "code",
   "execution_count": 2,
   "metadata": {},
   "outputs": [
    {
     "name": "stdout",
     "output_type": "stream",
     "text": [
      "[1.0, 2.0, 3.0, 4.0]\n"
     ]
    }
   ],
   "source": [
    "var x = SIMD[DType.float64, 4](1,2,3,4)\n",
    "print(x)"
   ]
  },
  {
   "cell_type": "code",
   "execution_count": 3,
   "metadata": {},
   "outputs": [
    {
     "name": "stdout",
     "output_type": "stream",
     "text": [
      "[5.0, 6.0]\n"
     ]
    }
   ],
   "source": [
    "var x2 = SIMD[DType.float64, 2](5, 6)\n",
    "print(x2)"
   ]
  },
  {
   "cell_type": "code",
   "execution_count": 4,
   "metadata": {},
   "outputs": [
    {
     "name": "stdout",
     "output_type": "stream",
     "text": [
      "[0.0, 0.0, 0.0, 0.0]\n"
     ]
    }
   ],
   "source": [
    "var y = SIMD[DType.float64, 4]()\n",
    "print(y)"
   ]
  },
  {
   "cell_type": "code",
   "execution_count": 5,
   "metadata": {},
   "outputs": [
    {
     "name": "stderr",
     "output_type": "stream",
     "text": [
      "error: \u001b[0;1;31m\u001b[1mExpression [5]:20:9: \u001b[0m\u001b[1mcannot implicitly convert 'SIMD[f64, 2]' value to 'SIMD[f64, 4]' in assignment\n",
      "\u001b[0m    y = x2\n",
      "\u001b[0;1;32m        ^~\n",
      "\u001b[0m\u001b[0m\n",
      "expression failed to parse (no further compiler diagnostics)"
     ]
    }
   ],
   "source": [
    "y = x2"
   ]
  },
  {
   "cell_type": "code",
   "execution_count": 1,
   "metadata": {},
   "outputs": [
    {
     "name": "stdout",
     "output_type": "stream",
     "text": [
      "65536\n"
     ]
    }
   ],
   "source": [
    "# what's faster, simd[1] * 10, or simd[8] load?\n",
    "\n",
    "from tensor import Tensor, TensorSpec, TensorShape\n",
    "from utils.index import Index\n",
    "from random import rand\n",
    "\n",
    "def make_tensor() -> Tensor[DType.float32]:\n",
    "    let height = 256\n",
    "    let width = 256\n",
    "    let channels = 3\n",
    "\n",
    "    # Create the tensor of dimensions height, width, channels\n",
    "    # and fill with random values.\n",
    "    let image = rand[DType.float32](height, width, channels)\n",
    "\n",
    "    # Declare the grayscale image.\n",
    "    let spec = TensorSpec(DType.float32, height, width)\n",
    "    var gray_scale_image = Tensor[DType.float32](spec)\n",
    "\n",
    "    # Perform the RGB to grayscale transform.\n",
    "    for y in range(height):\n",
    "        for x in range(width):\n",
    "            let r = image[y,x,0]\n",
    "            let g = image[y,x,1]\n",
    "            let b = image[y,x,2]\n",
    "            gray_scale_image[Index(y,x)] = 0.299 * r + 0.587 * g + 0.114 * b\n",
    "\n",
    "    return gray_scale_image\n",
    "\n",
    "print(make_tensor().num_elements())"
   ]
  },
  {
   "cell_type": "code",
   "execution_count": 17,
   "metadata": {},
   "outputs": [
    {
     "name": "stdout",
     "output_type": "stream",
     "text": [
      "ignore 0.40199160575866699\n",
      "ignore 0.25344225764274597\n",
      "4466 vs 4 1116.5 X speedup\n"
     ]
    }
   ],
   "source": [
    "from benchmark import Benchmark\n",
    "\n",
    "def wrap_benchmark():\n",
    "    let t = make_tensor()\n",
    "    var effect1 = SIMD[DType.float32, 1](1)\n",
    "\n",
    "    @parameter\n",
    "    fn bench_load1() -> None:\n",
    "        for n in range(0, 10 * 1024):\n",
    "            let x = t.simd_load[1](0)\n",
    "            effect1 = x\n",
    "\n",
    "    let ns1 = Benchmark().run[bench_load1]()\n",
    "\n",
    "    print(\"ignore\", effect1)\n",
    " \n",
    "    @parameter\n",
    "    fn bench_load10():\n",
    "        for n in range(0, 10):\n",
    "            let x = t.simd_load[1024](0)\n",
    "            effect1 = x[5]\n",
    "\n",
    "    let ns2 = Benchmark().run[bench_load10]()\n",
    "    print(\"ignore\", effect1)\n",
    "\n",
    "    print(ns1, \"vs\", ns2, ns1.__truediv__(ns2), \"X speedup\")\n",
    "\n",
    "wrap_benchmark()\n",
    "\n"
   ]
  },
  {
   "cell_type": "code",
   "execution_count": null,
   "metadata": {},
   "outputs": [],
   "source": []
  }
 ],
 "metadata": {
  "kernelspec": {
   "display_name": "Mojo",
   "language": "mojo",
   "name": "mojo-jupyter-kernel"
  },
  "language_info": {
   "codemirror_mode": {
    "name": "mojo"
   },
   "file_extension": ".mojo",
   "mimetype": "text/x-mojo",
   "name": "mojo"
  },
  "orig_nbformat": 4
 },
 "nbformat": 4,
 "nbformat_minor": 2
}
