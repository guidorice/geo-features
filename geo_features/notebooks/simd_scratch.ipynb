{
 "cells": [
  {
   "cell_type": "code",
   "execution_count": 70,
   "metadata": {},
   "outputs": [],
   "source": [
    "from sys.info import simdwidthof, simdbitwidth"
   ]
  },
  {
   "cell_type": "code",
   "execution_count": 71,
   "metadata": {},
   "outputs": [
    {
     "name": "stdout",
     "output_type": "stream",
     "text": [
      "host vector size 256\n",
      "simdwidth[AnyType] of various:\n",
      "f32 8\n",
      "f64 4\n",
      "int64 4\n",
      "si8 32\n",
      "bool 32\n"
     ]
    }
   ],
   "source": [
    "print(\"host vector size\", simdbitwidth())\n",
    "\n",
    "print(\"simdwidth[AnyType] of various:\")\n",
    "\n",
    "print(\"f32\", simdwidthof[DType.float32]())\n",
    "print(\"f64\", simdwidthof[DType.float64]())\n",
    "print(\"int64\", simdwidthof[DType.int64]())\n",
    "print(\"si8\", simdwidthof[DType.int8]())\n",
    "print(\"bool\", simdwidthof[DType.bool]())"
   ]
  },
  {
   "cell_type": "code",
   "execution_count": 72,
   "metadata": {},
   "outputs": [],
   "source": [
    "@register_passable(\"trivial\")\n",
    "struct Example[dtype: DType, dims: Int]:\n",
    "    var data: SIMD[dtype, dims]"
   ]
  },
  {
   "cell_type": "code",
   "execution_count": 73,
   "metadata": {},
   "outputs": [
    {
     "name": "stdout",
     "output_type": "stream",
     "text": [
      "2\n"
     ]
    }
   ],
   "source": [
    "alias ExampleAlias = Example[DType.float32, 4]\n",
    "let o = ExampleAlias{ data: SIMD[DType.float32, 4](42, 43, 44, 45) }\n",
    "print(simdwidthof[ExampleAlias]())\n"
   ]
  },
  {
   "cell_type": "code",
   "execution_count": 74,
   "metadata": {},
   "outputs": [],
   "source": [
    "alias ExampleAliasContd = Example[DType.float16, 16]"
   ]
  },
  {
   "cell_type": "code",
   "execution_count": 75,
   "metadata": {},
   "outputs": [
    {
     "name": "stdout",
     "output_type": "stream",
     "text": [
      "1\n"
     ]
    }
   ],
   "source": [
    "print(simdwidthof[ExampleAliasContd]())"
   ]
  },
  {
   "cell_type": "code",
   "execution_count": 1,
   "metadata": {},
   "outputs": [],
   "source": [
    "    # fn __eq__(self, other: Self) -> Bool:\n",
    "    #     \"\"\"\n",
    "    #     Vectorized equality check (approx 27X faster than procedural version in _sloweq)\n",
    "    #     \"\"\"\n",
    "    #     let len = self.__len__()\n",
    "    #     alias nelts = simdwidthof[Point[dtype, point_dims]]()\n",
    "    #     let n = len * point_dims\n",
    "\n",
    "    #     if len != other.__len__():\n",
    "    #         return False\n",
    "\n",
    "    #     for i in range(0, n, nelts):\n",
    "    #         var self_vec = self.coords.simd_load[nelts](i)\n",
    "    #         var other_vec = other.coords.simd_load[nelts](i)\n",
    "    #         # the last batch of nelts may not fill the vector, so write zeros so equality check can still be valid\n",
    "    #         if n - i < nelts:\n",
    "    #             for j in range(n - i, n):\n",
    "    #                 self_vec[j] = 0\n",
    "    #                 other_vec[j] = 0\n",
    "    #         let vectors_eq = self_vec == other_vec\n",
    "    #         if not Bool(vectors_eq):\n",
    "    #             return False\n",
    "\n",
    "    #     return True\n"
   ]
  },
  {
   "cell_type": "code",
   "execution_count": 2,
   "metadata": {},
   "outputs": [
    {
     "name": "stdout",
     "output_type": "stream",
     "text": [
      "[1.0, 2.0, 3.0, 4.0]\n"
     ]
    }
   ],
   "source": [
    "var x = SIMD[DType.float64, 4](1,2,3,4)\n",
    "print(x)"
   ]
  },
  {
   "cell_type": "code",
   "execution_count": 3,
   "metadata": {},
   "outputs": [
    {
     "name": "stdout",
     "output_type": "stream",
     "text": [
      "[5.0, 6.0]\n"
     ]
    }
   ],
   "source": [
    "var x2 = SIMD[DType.float64, 2](5, 6)\n",
    "print(x2)"
   ]
  },
  {
   "cell_type": "code",
   "execution_count": 4,
   "metadata": {},
   "outputs": [
    {
     "name": "stdout",
     "output_type": "stream",
     "text": [
      "[0.0, 0.0, 0.0, 0.0]\n"
     ]
    }
   ],
   "source": [
    "var y = SIMD[DType.float64, 4]()\n",
    "print(y)"
   ]
  },
  {
   "cell_type": "code",
   "execution_count": 5,
   "metadata": {},
   "outputs": [
    {
     "name": "stderr",
     "output_type": "stream",
     "text": [
      "error: \u001b[0;1;31m\u001b[1mExpression [5]:20:9: \u001b[0m\u001b[1mcannot implicitly convert 'SIMD[f64, 2]' value to 'SIMD[f64, 4]' in assignment\n",
      "\u001b[0m    y = x2\n",
      "\u001b[0;1;32m        ^~\n",
      "\u001b[0m\u001b[0m\n",
      "expression failed to parse (no further compiler diagnostics)"
     ]
    }
   ],
   "source": [
    "y = x2"
   ]
  },
  {
   "cell_type": "code",
   "execution_count": null,
   "metadata": {},
   "outputs": [],
   "source": []
  }
 ],
 "metadata": {
  "kernelspec": {
   "display_name": "Mojo",
   "language": "mojo",
   "name": "mojo-jupyter-kernel"
  },
  "language_info": {
   "codemirror_mode": {
    "name": "mojo"
   },
   "file_extension": ".mojo",
   "mimetype": "text/x-mojo",
   "name": "mojo"
  },
  "orig_nbformat": 4
 },
 "nbformat": 4,
 "nbformat_minor": 2
}
