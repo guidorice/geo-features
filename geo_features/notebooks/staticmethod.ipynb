{
 "cells": [
  {
   "cell_type": "code",
   "execution_count": 7,
   "metadata": {},
   "outputs": [],
   "source": [
    "from math import rsqrt\n",
    "\n",
    "\n",
    "@register_passable(\"trivial\")\n",
    "struct Vec3f:\n",
    "    var data: SIMD[DType.float32, 4]\n",
    "\n",
    "    @always_inline\n",
    "    fn __init__(x: Float32, y: Float32, z: Float32) -> Self:\n",
    "        return Vec3f {data: SIMD[DType.float32, 4](x, y, z, 0)}\n",
    "\n",
    "    @always_inline\n",
    "    fn __init__(data: SIMD[DType.float32, 4]) -> Self:\n",
    "        return Vec3f {data: data}\n",
    "\n",
    "    @always_inline\n",
    "    @staticmethod\n",
    "    fn zero() -> Vec3f:\n",
    "        return Vec3f(0, 0, 0)\n",
    "\n",
    "    @always_inline\n",
    "    fn __sub__(self, other: Vec3f) -> Vec3f:\n",
    "        return self.data - other.data\n",
    "\n",
    "    @always_inline\n",
    "    fn __add__(self, other: Vec3f) -> Vec3f:\n",
    "        return self.data + other.data\n",
    "\n",
    "    @always_inline\n",
    "    fn __matmul__(self, other: Vec3f) -> Float32:\n",
    "        return (self.data * other.data).reduce_add()\n",
    "\n",
    "    @always_inline\n",
    "    fn __mul__(self, k: Float32) -> Vec3f:\n",
    "        return self.data * k\n",
    "\n",
    "    @always_inline\n",
    "    fn __neg__(self) -> Vec3f:\n",
    "        return self.data * -1.0\n",
    "\n",
    "    @always_inline\n",
    "    fn __getitem__(self, idx: Int) -> SIMD[DType.float32, 1]:\n",
    "        return self.data[idx]\n",
    "\n",
    "    @always_inline\n",
    "    fn cross(self, other: Vec3f) -> Vec3f:\n",
    "        let self_zxy = self.data.shuffle[2, 0, 1, 3]()\n",
    "        let other_zxy = other.data.shuffle[2, 0, 1, 3]()\n",
    "        return (self_zxy * other.data - self.data * other_zxy).shuffle[\n",
    "            2, 0, 1, 3\n",
    "        ]()\n",
    "\n",
    "    @always_inline\n",
    "    fn normalize(self) -> Vec3f:\n",
    "        return self.data * rsqrt(self @ self)\n",
    "        "
   ]
  },
  {
   "cell_type": "code",
   "execution_count": 9,
   "metadata": {},
   "outputs": [
    {
     "name": "stdout",
     "output_type": "stream",
     "text": [
      "0.0\n"
     ]
    }
   ],
   "source": [
    "let v = Vec3f.zero()\n",
    "print(v.data[0])"
   ]
  },
  {
   "cell_type": "code",
   "execution_count": 15,
   "metadata": {},
   "outputs": [
    {
     "name": "stderr",
     "output_type": "stream",
     "text": [
      "error: \u001b[0;1;31m\u001b[1mExpression [16]:11:9: \u001b[0m\u001b[1mcannot access method 'bar' directly; did you mean 'Self.'?\n",
      "\u001b[0m        bar()         # implicitly binds to Foo[x].bar()\n",
      "\u001b[0;1;32m        ^~~\n",
      "\u001b[0m        Self.\n",
      "\u001b[0m\n"
     ]
    }
   ],
   "source": [
    "struct Foo[x: Int]:\n",
    "    @staticmethod\n",
    "    fn bar(): pass\n",
    "\n",
    "    fn foo(self):\n",
    "        bar()         # implicitly binds to Foo[x].bar()\n",
    "        Foo[2].bar()  # explicitly bind to another parameter"
   ]
  },
  {
   "cell_type": "code",
   "execution_count": 22,
   "metadata": {},
   "outputs": [],
   "source": [
    "struct NoInstances[x: Int, y: Int]:\n",
    "    var state: Int  # Pretty useless\n",
    "\n",
    "    alias my_int = Int\n",
    "\n",
    "    @staticmethod\n",
    "    fn print_hello():\n",
    "        print(\"hello world\")"
   ]
  },
  {
   "cell_type": "code",
   "execution_count": 24,
   "metadata": {},
   "outputs": [
    {
     "name": "stdout",
     "output_type": "stream",
     "text": [
      "hello world\n"
     ]
    }
   ],
   "source": [
    "NoInstances[1, 2].print_hello()"
   ]
  },
  {
   "cell_type": "code",
   "execution_count": null,
   "metadata": {},
   "outputs": [],
   "source": []
  }
 ],
 "metadata": {
  "kernelspec": {
   "display_name": "Mojo",
   "language": "mojo",
   "name": "mojo-jupyter-kernel"
  },
  "language_info": {
   "codemirror_mode": {
    "name": "mojo"
   },
   "file_extension": ".mojo",
   "mimetype": "text/x-mojo",
   "name": "mojo"
  },
  "orig_nbformat": 4
 },
 "nbformat": 4,
 "nbformat_minor": 2
}
